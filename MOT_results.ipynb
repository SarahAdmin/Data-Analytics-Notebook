{
  "nbformat": 4,
  "nbformat_minor": 0,
  "metadata": {
    "colab": {
      "provenance": [],
      "authorship_tag": "ABX9TyOTNMVJomybLqIUrNp5Bo2S",
      "include_colab_link": true
    },
    "kernelspec": {
      "name": "python3",
      "display_name": "Python 3"
    },
    "language_info": {
      "name": "python"
    }
  },
  "cells": [
    {
      "cell_type": "markdown",
      "metadata": {
        "id": "view-in-github",
        "colab_type": "text"
      },
      "source": [
        "<a href=\"https://colab.research.google.com/github/SarahAdmin/Data-Analytics-Notebook/blob/main/MOT_results.ipynb\" target=\"_parent\"><img src=\"https://colab.research.google.com/assets/colab-badge.svg\" alt=\"Open In Colab\"/></a>"
      ]
    },
    {
      "cell_type": "code",
      "execution_count": null,
      "metadata": {
        "id": "2esRHmexq9Y3",
        "colab": {
          "base_uri": "https://localhost:8080/"
        },
        "outputId": "e62d2752-d6bc-41e5-da97-1f400508f16d"
      },
      "outputs": [
        {
          "output_type": "stream",
          "name": "stdout",
          "text": [
            "          Tests Pass after rectification at MOT test station   Fails  \\\n",
            "count       180                                          180     180   \n",
            "unique      180                                          180     180   \n",
            "top     133,184                                        7,885  12,772   \n",
            "freq          1                                            1       1   \n",
            "\n",
            "       Tests failed with at least one dangerous item  \\\n",
            "count                                            140   \n",
            "unique                                           139   \n",
            "top                                              663   \n",
            "freq                                               2   \n",
            "\n",
            "       Tests failed with no dangerous items  \n",
            "count                                   140  \n",
            "unique                                  139  \n",
            "top                                   2,463  \n",
            "freq                                      2  \n"
          ]
        }
      ],
      "source": [
        "import pandas as pd\n",
        "motDF = pd.read_csv('dvsa-mot-01-mot-test-results-by-class-of-vehicle.csv',encoding='latin-1')\n",
        "columnsToDelete = ['ï»¿Financial year','Period','Class','Initial fail rate', 'Final fail rate','Initial fail rate for tests with at least one dangerous item',\n",
        "                   'Initial fail rate for tests with no dangerous item']\n",
        "newMOT = motDF.drop(columnsToDelete, axis=1)\n",
        "mot_corr = newMOT.describe()\n",
        "print(mot_corr)"
      ]
    },
    {
      "cell_type": "code",
      "source": [
        "import pandas as pd\n",
        "motDF = pd.read_csv('dvsa-mot-01-mot-test-results-by-class-of-vehicle.csv',encoding='latin-1')\n",
        "\n",
        "mot_q3 = motDF.where(motDF['Period'] == 'Quarter 3: October to December').dropna()\n",
        "print('Quarter 3 Results')\n",
        "print(mot_q3.to_string())"
      ],
      "metadata": {
        "colab": {
          "base_uri": "https://localhost:8080/"
        },
        "id": "ZuskUXlOBpRI",
        "outputId": "b2e60a9d-e38f-42ed-9bda-68123dc1170d"
      },
      "execution_count": 24,
      "outputs": [
        {
          "output_type": "stream",
          "name": "stdout",
          "text": [
            "Quarter 3 Results\n",
            "    ï»¿Financial year                          Period                                                                    Class      Tests Pass after rectification at MOT test station      Fails Initial fail rate Final fail rate Tests failed with at least one dangerous item Initial fail rate for tests with at least one dangerous item Tests failed with no dangerous items Initial fail rate for tests with no dangerous item\n",
            "0        2024 to 2025  Quarter 3: October to December                                               Classes 1 & 2: Motorcycles    133,184                                        7,885     12,772            15.51%           9.59%                                         7,030                                                        5.28%                               13,627                                             10.23%\n",
            "1        2024 to 2025  Quarter 3: October to December     Classes 3 & 4: Cars, vans and passenger vehicles with up to 12 seats  8,245,954                                      458,858  1,923,591            28.89%          23.33%                                       653,869                                                        7.93%                            1,728,580                                             20.96%\n",
            "2        2024 to 2025  Quarter 3: October to December              Class 5: Private passenger vehicles with more than 12 seats      9,682                                          433      2,096            26.12%          21.65%                                           591                                                        6.10%                                1,938                                             20.02%\n",
            "3        2024 to 2025  Quarter 3: October to December  Class 7: Goods vehicles between 3,000 and 3,500 kg gross vehicle weight    272,668                                       18,516     77,074            35.06%          28.27%                                        26,167                                                        9.60%                               69,423                                             25.46%\n",
            "4        2024 to 2025  Quarter 3: October to December                                                                    Total  8,661,488                                      485,692  2,015,533            28.88%          23.27%                                       687,657                                                        7.94%                            1,813,568                                             20.94%\n",
            "25       2023 to 2024  Quarter 3: October to December                                               Classes 1 & 2: Motorcycles    132,079                                        8,312     13,049            16.17%           9.88%                                         7,279                                                        5.51%                               14,082                                             10.66%\n",
            "26       2023 to 2024  Quarter 3: October to December     Classes 3 & 4: Cars, vans and passenger vehicles with up to 12 seats  8,396,179                                      480,483  1,998,570            29.53%          23.80%                                       684,746                                                        8.16%                            1,794,307                                             21.37%\n",
            "27       2023 to 2024  Quarter 3: October to December              Class 5: Private passenger vehicles with more than 12 seats     10,171                                          435      2,259            26.49%          22.21%                                           745                                                        7.32%                                1,949                                             19.16%\n",
            "28       2023 to 2024  Quarter 3: October to December  Class 7: Goods vehicles between 3,000 and 3,500 kg gross vehicle weight    266,049                                       18,092     78,568            36.33%          29.53%                                        27,899                                                       10.49%                               68,761                                             25.85%\n",
            "29       2023 to 2024  Quarter 3: October to December                                                                    Total  8,804,478                                      507,322  2,092,446            29.53%          23.77%                                       720,669                                                        8.19%                            1,879,099                                             21.34%\n",
            "50       2022 to 2023  Quarter 3: October to December                                               Classes 1 & 2: Motorcycles    140,699                                        9,120     13,715            16.23%           9.75%                                         7,830                                                        5.57%                               15,005                                             10.66%\n",
            "51       2022 to 2023  Quarter 3: October to December     Classes 3 & 4: Cars, vans and passenger vehicles with up to 12 seats  8,574,957                                      522,891  1,978,528            29.17%          23.07%                                       684,318                                                        7.98%                            1,817,101                                             21.19%\n",
            "52       2022 to 2023  Quarter 3: October to December              Class 5: Private passenger vehicles with more than 12 seats     10,793                                          441      2,281            25.22%          21.13%                                           712                                                        6.60%                                2,010                                             18.62%\n",
            "53       2022 to 2023  Quarter 3: October to December  Class 7: Goods vehicles between 3,000 and 3,500 kg gross vehicle weight    261,921                                       18,892     77,526            36.81%          29.60%                                        27,395                                                       10.46%                               69,023                                             26.35%\n",
            "54       2022 to 2023  Quarter 3: October to December                                                                    Total  8,988,370                                      551,344  2,072,050            29.19%          23.05%                                       720,255                                                        8.01%                            1,903,139                                             21.17%\n",
            "75       2021 to 2022  Quarter 3: October to December                                               Classes 1 & 2: Motorcycles    154,511                                       10,296     15,346            16.60%           9.93%                                         8,448                                                        5.47%                               17,194                                             11.13%\n",
            "76       2021 to 2022  Quarter 3: October to December     Classes 3 & 4: Cars, vans and passenger vehicles with up to 12 seats  8,733,563                                      541,532  2,104,422            30.30%          24.10%                                       721,343                                                        8.26%                            1,924,611                                             22.04%\n",
            "77       2021 to 2022  Quarter 3: October to December              Class 5: Private passenger vehicles with more than 12 seats     11,392                                          504      2,484            26.23%          21.80%                                           875                                                        7.68%                                2,113                                             18.55%\n",
            "78       2021 to 2022  Quarter 3: October to December  Class 7: Goods vehicles between 3,000 and 3,500 kg gross vehicle weight    263,813                                       18,768     82,147            38.25%          31.14%                                        30,443                                                       11.54%                               70,472                                             26.71%\n",
            "79       2021 to 2022  Quarter 3: October to December                                                                    Total  9,163,279                                      571,100  2,204,399            30.29%          24.06%                                       761,109                                                        8.31%                            2,014,390                                             21.98%\n",
            "100      2020 to 2021  Quarter 3: October to December                                               Classes 1 & 2: Motorcycles    180,154                                       12,870     18,752            17.55%          10.41%                                        10,429                                                        5.79%                               21,193                                             11.76%\n",
            "101      2020 to 2021  Quarter 3: October to December     Classes 3 & 4: Cars, vans and passenger vehicles with up to 12 seats  9,248,351                                      621,408  2,281,010            31.38%          24.66%                                       833,287                                                        9.01%                            2,069,131                                             22.37%\n",
            "102      2020 to 2021  Quarter 3: October to December              Class 5: Private passenger vehicles with more than 12 seats     11,984                                          538      2,553            25.79%          21.30%                                           724                                                        6.04%                                2,367                                             19.75%\n",
            "103      2020 to 2021  Quarter 3: October to December  Class 7: Goods vehicles between 3,000 and 3,500 kg gross vehicle weight    270,151                                       20,201     85,970            39.30%          31.82%                                        33,586                                                       12.43%                               72,585                                             26.87%\n",
            "104      2020 to 2021  Quarter 3: October to December                                                                    Total  9,710,640                                      655,017  2,388,285            31.34%          24.59%                                       878,026                                                        9.04%                            2,165,276                                             22.30%\n",
            "125      2019 to 2020  Quarter 3: October to December                                               Classes 1 & 2: Motorcycles    113,863                                        9,162     12,698            19.20%          11.20%                                         7,296                                                        6.40%                               14,564                                             12.80%\n",
            "126      2019 to 2020  Quarter 3: October to December     Classes 3 & 4: Cars, vans and passenger vehicles with up to 12 seats  6,517,653                                      473,891  1,606,476            31.90%          24.60%                                       606,067                                                        9.30%                            1,474,300                                             22.60%\n",
            "127      2019 to 2020  Quarter 3: October to December              Class 5: Private passenger vehicles with more than 12 seats      9,970                                          548      2,221            27.80%          22.30%                                           669                                                        6.70%                                2,100                                             21.10%\n",
            "128      2019 to 2020  Quarter 3: October to December  Class 7: Goods vehicles between 3,000 and 3,500 kg gross vehicle weight    184,108                                       14,783     59,156            40.20%          32.10%                                        22,923                                                       12.50%                               51,016                                             27.70%\n",
            "129      2019 to 2020  Quarter 3: October to December                                                                    Total  6,825,594                                      498,384  1,680,551            31.90%          24.60%                                       636,955                                                        9.30%                            1,541,980                                             22.60%\n"
          ]
        }
      ]
    },
    {
      "cell_type": "code",
      "source": [
        "import pandas as pd\n",
        "motDF = pd.read_csv('dvsa-mot-01-mot-test-results-by-class-of-vehicle.csv',encoding='latin-1')\n",
        "mot_q4 = motDF.where(motDF['Period'] == 'Quarter 4: January to March').dropna()\n",
        "print('Quarter 4 Results')\n",
        "print(mot_q4.to_string())"
      ],
      "metadata": {
        "colab": {
          "base_uri": "https://localhost:8080/"
        },
        "id": "ktNXOgOODg9T",
        "outputId": "0bcee86f-0b55-41c4-b07f-979d5463fddd"
      },
      "execution_count": 27,
      "outputs": [
        {
          "output_type": "stream",
          "name": "stdout",
          "text": [
            "Quarter 4 Results\n",
            "    ï»¿Financial year                       Period                                                                    Class      Tests Pass after rectification at MOT test station      Fails Initial fail rate Final fail rate Tests failed with at least one dangerous item Initial fail rate for tests with at least one dangerous item Tests failed with no dangerous items Initial fail rate for tests with no dangerous item\n",
            "20       2023 to 2024  Quarter 4: January to March                                               Classes 1 & 2: Motorcycles    191,018                                       11,552     17,270            15.09%           9.04%                                         9,524                                                        4.99%                               19,298                                             10.10%\n",
            "21       2023 to 2024  Quarter 4: January to March     Classes 3 & 4: Cars, vans and passenger vehicles with up to 12 seats  8,954,606                                      496,971  2,057,473            28.53%          22.98%                                       713,457                                                        7.97%                            1,840,987                                             20.56%\n",
            "22       2023 to 2024  Quarter 4: January to March              Class 5: Private passenger vehicles with more than 12 seats     10,113                                          464      2,248            26.82%          22.23%                                           663                                                        6.56%                                2,049                                             20.26%\n",
            "23       2023 to 2024  Quarter 4: January to March  Class 7: Goods vehicles between 3,000 and 3,500 kg gross vehicle weight    279,503                                       19,275     81,937            36.21%          29.32%                                        29,085                                                       10.41%                               72,127                                             25.81%\n",
            "24       2023 to 2024  Quarter 4: January to March                                                                    Total  9,435,240                                      528,262  2,158,928            28.48%          22.88%                                       752,729                                                        7.98%                            1,934,461                                             20.50%\n",
            "45       2022 to 2023  Quarter 4: January to March                                               Classes 1 & 2: Motorcycles    196,169                                       12,584     17,892            15.54%           9.12%                                         9,838                                                        5.02%                               20,638                                             10.52%\n",
            "46       2022 to 2023  Quarter 4: January to March     Classes 3 & 4: Cars, vans and passenger vehicles with up to 12 seats  9,082,009                                      534,569  2,043,794            28.39%          22.50%                                       711,186                                                        7.83%                            1,867,177                                             20.56%\n",
            "47       2022 to 2023  Quarter 4: January to March              Class 5: Private passenger vehicles with more than 12 seats     10,614                                          438      2,282            25.63%          21.50%                                           742                                                        6.99%                                1,978                                             18.64%\n",
            "48       2022 to 2023  Quarter 4: January to March  Class 7: Goods vehicles between 3,000 and 3,500 kg gross vehicle weight    272,175                                       19,606     80,993            36.96%          29.76%                                        29,349                                                       10.78%                               71,250                                             26.18%\n",
            "49       2022 to 2023  Quarter 4: January to March                                                                    Total  9,560,967                                      567,197  2,144,961            28.37%          22.43%                                       751,115                                                        7.86%                            1,961,043                                             20.51%\n",
            "70       2021 to 2022  Quarter 4: January to March                                               Classes 1 & 2: Motorcycles    215,280                                       14,208     19,767            15.80%           9.20%                                        10,476                                                        4.90%                               23,499                                             10.90%\n",
            "71       2021 to 2022  Quarter 4: January to March     Classes 3 & 4: Cars, vans and passenger vehicles with up to 12 seats  8,974,864                                      540,755  2,059,258            29.00%          22.90%                                       717,674                                                        8.00%                            1,882,339                                             21.00%\n",
            "72       2021 to 2022  Quarter 4: January to March              Class 5: Private passenger vehicles with more than 12 seats     10,480                                          430      2,330            26.30%          22.20%                                           796                                                        7.60%                                1,964                                             18.70%\n",
            "73       2021 to 2022  Quarter 4: January to March  Class 7: Goods vehicles between 3,000 and 3,500 kg gross vehicle weight    264,029                                       18,875     81,579            38.00%          30.90%                                        30,462                                                       11.50%                               69,992                                             26.50%\n",
            "74       2021 to 2022  Quarter 4: January to March                                                                    Total  9,464,653                                      574,268  2,162,934            28.90%          22.90%                                       759,408                                                        8.00%                            1,977,794                                             20.90%\n",
            "95       2020 to 2021  Quarter 4: January to March                                               Classes 1 & 2: Motorcycles    217,641                                       14,888     20,904            16.45%           9.60%                                        11,718                                                        5.38%                               24,074                                             11.06%\n",
            "96       2020 to 2021  Quarter 4: January to March     Classes 3 & 4: Cars, vans and passenger vehicles with up to 12 seats  8,708,409                                      563,964  2,034,911            29.84%          23.37%                                       709,219                                                        8.14%                            1,889,656                                             21.70%\n",
            "97       2020 to 2021  Quarter 4: January to March              Class 5: Private passenger vehicles with more than 12 seats     10,714                                          490      2,346            26.47%          21.90%                                           783                                                        7.31%                                2,053                                             19.16%\n",
            "98       2020 to 2021  Quarter 4: January to March  Class 7: Goods vehicles between 3,000 and 3,500 kg gross vehicle weight    245,299                                       18,561     76,644            38.81%          31.25%                                        29,699                                                       12.11%                               65,506                                             26.70%\n",
            "99       2020 to 2021  Quarter 4: January to March                                                                    Total  9,182,063                                      597,903  2,134,805            29.76%          23.25%                                       751,419                                                        8.18%                            1,981,289                                             21.58%\n",
            "120      2019 to 2020  Quarter 4: January to March                                               Classes 1 & 2: Motorcycles    168,143                                       12,199     16,248            16.90%           9.70%                                         9,049                                                        5.40%                               19,398                                             11.50%\n",
            "121      2019 to 2020  Quarter 4: January to March     Classes 3 & 4: Cars, vans and passenger vehicles with up to 12 seats  7,845,604                                      550,419  1,856,271            30.70%          23.70%                                       706,007                                                        9.00%                            1,700,683                                             21.70%\n",
            "122      2019 to 2020  Quarter 4: January to March              Class 5: Private passenger vehicles with more than 12 seats     10,968                                          579      2,499            28.10%          22.80%                                           738                                                        6.70%                                2,340                                             21.30%\n",
            "123      2019 to 2020  Quarter 4: January to March  Class 7: Goods vehicles between 3,000 and 3,500 kg gross vehicle weight    196,041                                       15,469     61,457            39.20%          31.30%                                        24,157                                                       12.30%                               52,769                                             26.90%\n",
            "124      2019 to 2020  Quarter 4: January to March                                                                    Total  8,220,756                                      578,666  1,936,475            30.60%          23.60%                                       739,951                                                        9.00%                            1,775,190                                             21.60%\n"
          ]
        }
      ]
    },
    {
      "cell_type": "code",
      "source": [
        "import pandas as pd\n",
        "motDF = pd.read_csv('dvsa-mot-01-mot-test-results-by-class-of-vehicle.csv',encoding='latin-1')\n",
        "mot_q2 = motDF.where(motDF['Period'] == 'Quarter 2: July to September').dropna()\n",
        "print('Quarter 2 Results')\n",
        "print(mot_q2.to_string())"
      ],
      "metadata": {
        "colab": {
          "base_uri": "https://localhost:8080/"
        },
        "id": "D0h-OJkmD6ZV",
        "outputId": "e8da032d-5a24-49c2-f5eb-49580b8ca6ca"
      },
      "execution_count": 28,
      "outputs": [
        {
          "output_type": "stream",
          "name": "stdout",
          "text": [
            "Quarter 2 Results\n",
            "    ï»¿Financial year                        Period                                                                    Class      Tests Pass after rectification at MOT test station      Fails Initial fail rate Final fail rate Tests failed with at least one dangerous item Initial fail rate for tests with at least one dangerous item Tests failed with no dangerous items Initial fail rate for tests with no dangerous item\n",
            "5        2024 to 2025  Quarter 2: July to September                                               Classes 1 & 2: Motorcycles    290,322                                       15,553     25,214            14.04%           8.68%                                        12,630                                                        4.35%                               28,137                                              9.69%\n",
            "6        2024 to 2025  Quarter 2: July to September     Classes 3 & 4: Cars, vans and passenger vehicles with up to 12 seats  8,651,489                                      464,023  1,935,300            27.73%          22.37%                                       652,098                                                        7.54%                            1,747,225                                             20.20%\n",
            "7        2024 to 2025  Quarter 2: July to September              Class 5: Private passenger vehicles with more than 12 seats     12,432                                          533      2,715            26.13%          21.84%                                           785                                                        6.31%                                2,463                                             19.81%\n",
            "8        2024 to 2025  Quarter 2: July to September  Class 7: Goods vehicles between 3,000 and 3,500 kg gross vehicle weight    258,023                                       18,042     73,381            35.43%          28.44%                                        25,089                                                        9.72%                               66,334                                             25.71%\n",
            "9        2024 to 2025  Quarter 2: July to September                                                                    Total  9,212,266                                      498,151  2,036,610            27.52%          22.11%                                       690,602                                                        7.50%                            1,844,159                                             20.02%\n",
            "30       2023 to 2024  Quarter 2: July to September                                               Classes 1 & 2: Motorcycles    287,017                                       16,516     25,185            14.53%           8.77%                                        12,861                                                        4.48%                               28,840                                             10.05%\n",
            "31       2023 to 2024  Quarter 2: July to September     Classes 3 & 4: Cars, vans and passenger vehicles with up to 12 seats  8,632,783                                      478,789  1,942,003            28.04%          22.50%                                       656,543                                                        7.61%                            1,764,249                                             20.44%\n",
            "32       2023 to 2024  Quarter 2: July to September              Class 5: Private passenger vehicles with more than 12 seats     12,057                                          531      2,720            26.96%          22.56%                                           846                                                        7.02%                                2,405                                             19.95%\n",
            "33       2023 to 2024  Quarter 2: July to September  Class 7: Goods vehicles between 3,000 and 3,500 kg gross vehicle weight    243,697                                       17,236     70,893            36.16%          29.09%                                        24,650                                                       10.12%                               63,479                                             26.05%\n",
            "34       2023 to 2024  Quarter 2: July to September                                                                    Total  9,175,554                                      513,072  2,040,801            27.83%          22.24%                                       694,900                                                        7.57%                            1,858,973                                             20.26%\n",
            "55       2022 to 2023  Quarter 2: July to September                                               Classes 1 & 2: Motorcycles    288,266                                       17,271     25,604            14.87%           8.88%                                        12,921                                                        4.48%                               29,954                                             10.39%\n",
            "56       2022 to 2023  Quarter 2: July to September     Classes 3 & 4: Cars, vans and passenger vehicles with up to 12 seats  8,525,803                                      501,063  1,876,146            27.88%          22.01%                                       635,216                                                        7.45%                            1,741,993                                             20.43%\n",
            "57       2022 to 2023  Quarter 2: July to September              Class 5: Private passenger vehicles with more than 12 seats     12,363                                          537      2,706            26.23%          21.89%                                           847                                                        6.85%                                2,396                                             19.38%\n",
            "58       2022 to 2023  Quarter 2: July to September  Class 7: Goods vehicles between 3,000 and 3,500 kg gross vehicle weight    225,358                                       16,159     66,049            36.48%          29.31%                                        23,558                                                       10.45%                               58,650                                             26.03%\n",
            "59       2022 to 2023  Quarter 2: July to September                                                                    Total  9,051,790                                      535,030  1,970,505            27.68%          21.77%                                       672,542                                                        7.43%                            1,832,993                                             20.25%\n",
            "80       2021 to 2022  Quarter 2: July to September                                               Classes 1 & 2: Motorcycles    282,339                                       16,981     24,764            14.79%           8.77%                                        12,586                                                        4.46%                               29,159                                             10.33%\n",
            "81       2021 to 2022  Quarter 2: July to September     Classes 3 & 4: Cars, vans and passenger vehicles with up to 12 seats  8,443,200                                      507,366  1,911,169            28.64%          22.64%                                       633,076                                                        7.50%                            1,785,459                                             21.15%\n",
            "82       2021 to 2022  Quarter 2: July to September              Class 5: Private passenger vehicles with more than 12 seats     12,923                                          557      2,880            26.60%          22.29%                                           974                                                        7.54%                                2,463                                             19.06%\n",
            "83       2021 to 2022  Quarter 2: July to September  Class 7: Goods vehicles between 3,000 and 3,500 kg gross vehicle weight    211,566                                       14,836     64,439            37.47%          30.46%                                        23,517                                                       11.12%                               55,758                                             26.35%\n",
            "84       2021 to 2022  Quarter 2: July to September                                                                    Total  8,950,028                                      539,740  2,003,252            28.41%          22.38%                                       670,153                                                        7.49%                            1,872,839                                             20.93%\n",
            "105      2020 to 2021  Quarter 2: July to September                                               Classes 1 & 2: Motorcycles    275,622                                       17,432     24,184            15.10%           8.77%                                        12,301                                                        4.46%                               29,315                                             10.64%\n",
            "106      2020 to 2021  Quarter 2: July to September     Classes 3 & 4: Cars, vans and passenger vehicles with up to 12 seats  8,594,940                                      558,424  1,993,845            29.70%          23.20%                                       715,324                                                        8.32%                            1,836,945                                             21.37%\n",
            "107      2020 to 2021  Quarter 2: July to September              Class 5: Private passenger vehicles with more than 12 seats     12,309                                          584      2,617            26.01%          21.26%                                           732                                                        5.95%                                2,469                                             20.06%\n",
            "108      2020 to 2021  Quarter 2: July to September  Class 7: Goods vehicles between 3,000 and 3,500 kg gross vehicle weight    197,079                                       14,505     61,418            38.52%          31.16%                                        23,551                                                       11.95%                               52,372                                             26.57%\n",
            "109      2020 to 2021  Quarter 2: July to September                                                                    Total  9,079,950                                      590,945  2,082,064            29.44%          22.93%                                       751,908                                                        8.28%                            1,921,101                                             21.16%\n",
            "130      2019 to 2020  Quarter 2: July to September                                               Classes 1 & 2: Motorcycles    285,043                                       19,602     28,288            16.80%           9.90%                                        14,525                                                        5.10%                               33,365                                             11.70%\n",
            "131      2019 to 2020  Quarter 2: July to September     Classes 3 & 4: Cars, vans and passenger vehicles with up to 12 seats  7,799,916                                      551,571  1,918,792            31.70%          24.60%                                       706,369                                                        9.10%                            1,763,994                                             22.60%\n",
            "132      2019 to 2020  Quarter 2: July to September              Class 5: Private passenger vehicles with more than 12 seats     13,548                                          679      3,170            28.40%          23.40%                                           968                                                        7.10%                                2,881                                             21.30%\n",
            "133      2019 to 2020  Quarter 2: July to September  Class 7: Goods vehicles between 3,000 and 3,500 kg gross vehicle weight    199,564                                       15,905     65,213            40.60%          32.70%                                        25,124                                                       12.60%                               55,994                                             28.10%\n",
            "134      2019 to 2020  Quarter 2: July to September                                                                    Total  8,298,071                                      587,757  2,015,463            31.40%          24.30%                                       746,986                                                        9.00%                            1,856,234                                             22.40%\n"
          ]
        }
      ]
    },
    {
      "cell_type": "code",
      "source": [
        "import pandas as pd\n",
        "motDF = pd.read_csv('dvsa-mot-01-mot-test-results-by-class-of-vehicle.csv',encoding='latin-1')\n",
        "mot_q1 = motDF.where(motDF['Period'] == 'Quarter 1: April to June').dropna()\n",
        "print('Quarter 1 Results')\n",
        "print(mot_q1.to_string())"
      ],
      "metadata": {
        "colab": {
          "base_uri": "https://localhost:8080/"
        },
        "id": "R3fSq6J7EWRM",
        "outputId": "59a250c7-1d44-4773-b06a-9396588384c2"
      },
      "execution_count": 29,
      "outputs": [
        {
          "output_type": "stream",
          "name": "stdout",
          "text": [
            "Quarter 1 Results\n",
            "    ï»¿Financial year                    Period                                                                    Class      Tests Pass after rectification at MOT test station      Fails Initial fail rate Final fail rate Tests failed with at least one dangerous item Initial fail rate for tests with at least one dangerous item Tests failed with no dangerous items Initial fail rate for tests with no dangerous item\n",
            "10       2024 to 2025  Quarter 1: April to June                                               Classes 1 & 2: Motorcycles    370,872                                       20,171     29,775            13.47%           8.03%                                        14,985                                                        4.04%                               34,961                                              9.43%\n",
            "11       2024 to 2025  Quarter 1: April to June     Classes 3 & 4: Cars, vans and passenger vehicles with up to 12 seats  7,259,696                                      394,379  1,630,645            27.89%          22.46%                                       571,169                                                        7.87%                            1,453,855                                             20.03%\n",
            "12       2024 to 2025  Quarter 1: April to June              Class 5: Private passenger vehicles with more than 12 seats      9,523                                          445      2,213            27.91%          23.24%                                           703                                                        7.38%                                1,955                                             20.53%\n",
            "13       2024 to 2025  Quarter 1: April to June  Class 7: Goods vehicles between 3,000 and 3,500 kg gross vehicle weight    243,590                                       17,269     70,445            36.01%          28.92%                                        25,016                                                       10.27%                               62,698                                             25.74%\n",
            "14       2024 to 2025  Quarter 1: April to June                                                                    Total  7,883,681                                      432,264  1,733,078            27.47%          21.98%                                       611,873                                                        7.76%                            1,553,469                                             19.70%\n",
            "35       2023 to 2024  Quarter 1: April to June                                               Classes 1 & 2: Motorcycles    369,511                                       21,283     30,083            13.90%           8.14%                                        15,373                                                        4.16%                               35,993                                              9.74%\n",
            "36       2023 to 2024  Quarter 1: April to June     Classes 3 & 4: Cars, vans and passenger vehicles with up to 12 seats  6,706,658                                      386,134  1,503,850            28.18%          22.42%                                       517,278                                                        7.71%                            1,372,706                                             20.47%\n",
            "37       2023 to 2024  Quarter 1: April to June              Class 5: Private passenger vehicles with more than 12 seats      9,291                                          455      2,088            27.37%          22.47%                                           679                                                        7.31%                                1,864                                             20.06%\n",
            "38       2023 to 2024  Quarter 1: April to June  Class 7: Goods vehicles between 3,000 and 3,500 kg gross vehicle weight    213,594                                       15,807     62,273            36.56%          29.15%                                        22,438                                                       10.50%                               55,642                                             26.05%\n",
            "39       2023 to 2024  Quarter 1: April to June                                                                    Total  7,299,054                                      423,679  1,598,294            27.70%          21.90%                                       555,768                                                        7.61%                            1,466,205                                             20.09%\n",
            "60       2022 to 2023  Quarter 1: April to June                                               Classes 1 & 2: Motorcycles    337,450                                       21,049     28,882            14.80%           8.56%                                        14,391                                                        4.26%                               35,540                                             10.53%\n",
            "61       2022 to 2023  Quarter 1: April to June     Classes 3 & 4: Cars, vans and passenger vehicles with up to 12 seats  6,358,481                                      385,403  1,391,136            27.94%          21.88%                                       477,921                                                        7.52%                            1,298,618                                             20.42%\n",
            "62       2022 to 2023  Quarter 1: April to June              Class 5: Private passenger vehicles with more than 12 seats      8,978                                          454      2,061            28.01%          22.96%                                           663                                                        7.38%                                1,852                                             20.63%\n",
            "63       2022 to 2023  Quarter 1: April to June  Class 7: Goods vehicles between 3,000 and 3,500 kg gross vehicle weight    195,324                                       14,440     57,083            36.62%          29.22%                                        20,731                                                       10.61%                               50,792                                             26.00%\n",
            "64       2022 to 2023  Quarter 1: April to June                                                                    Total  6,900,233                                      421,346  1,479,162            27.54%          21.44%                                       513,706                                                        7.44%                            1,386,802                                             20.10%\n",
            "85       2021 to 2022  Quarter 1: April to June                                               Classes 1 & 2: Motorcycles    310,775                                       20,312     27,755            15.47%           8.93%                                        14,070                                                        4.53%                               33,997                                             10.94%\n",
            "86       2021 to 2022  Quarter 1: April to June     Classes 3 & 4: Cars, vans and passenger vehicles with up to 12 seats  5,461,835                                      343,786  1,225,320            28.73%          22.43%                                       412,839                                                        7.56%                            1,156,267                                             21.17%\n",
            "87       2021 to 2022  Quarter 1: April to June              Class 5: Private passenger vehicles with more than 12 seats      8,343                                          376      2,143            30.19%          25.69%                                           791                                                        9.48%                                1,728                                             20.71%\n",
            "88       2021 to 2022  Quarter 1: April to June  Class 7: Goods vehicles between 3,000 and 3,500 kg gross vehicle weight    154,550                                       11,821     46,659            37.84%          30.19%                                        17,435                                                       11.28%                               41,045                                             26.56%\n",
            "89       2021 to 2022  Quarter 1: April to June                                                                    Total  5,935,503                                      376,295  1,301,877            28.27%          21.93%                                       445,135                                                        7.50%                            1,233,037                                             20.77%\n",
            "110      2020 to 2021  Quarter 1: April to June                                               Classes 1 & 2: Motorcycles    197,142                                       13,244     15,870            14.77%           8.05%                                        10,870                                                       11.16%                               24,555                                             25.22%\n",
            "111      2020 to 2021  Quarter 1: April to June     Classes 3 & 4: Cars, vans and passenger vehicles with up to 12 seats  3,694,572                                      266,571    822,572            29.48%          22.26%                                       310,559                                                        8.41%                              778,584                                             21.07%\n",
            "112      2020 to 2021  Quarter 1: April to June              Class 5: Private passenger vehicles with more than 12 seats      5,209                                          281        942            23.48%          18.08%                                           259                                                        4.97%                                  964                                             18.51%\n",
            "113      2020 to 2021  Quarter 1: April to June  Class 7: Goods vehicles between 3,000 and 3,500 kg gross vehicle weight     97,363                                        8,216     27,209            36.38%          27.95%                                         8,552                                                        4.34%                               20,562                                             10.43%\n",
            "114      2020 to 2021  Quarter 1: April to June                                                                    Total  3,994,286                                      288,312    866,593            28.91%          21.70%                                       330,240                                                        8.27%                              824,665                                             20.65%\n",
            "135      2019 to 2020  Quarter 1: April to June                                               Classes 1 & 2: Motorcycles    367,128                                       24,885     33,227            15.83%           9.05%                                        17,279                                                        4.71%                               40,833                                             11.12%\n",
            "136      2019 to 2020  Quarter 1: April to June     Classes 3 & 4: Cars, vans and passenger vehicles with up to 12 seats  7,902,799                                      571,809  2,000,009            32.54%          25.31%                                       740,449                                                        9.37%                            1,831,369                                             23.17%\n",
            "137      2019 to 2020  Quarter 1: April to June              Class 5: Private passenger vehicles with more than 12 seats     12,179                                          671      2,903            29.35%          23.84%                                           945                                                        7.76%                                2,629                                             21.59%\n",
            "138      2019 to 2020  Quarter 1: April to June  Class 7: Goods vehicles between 3,000 and 3,500 kg gross vehicle weight    198,217                                       16,237     65,221            41.10%          32.90%                                        25,662                                                       12.95%                               55,796                                             28.15%\n",
            "139      2019 to 2020  Quarter 1: April to June                                                                    Total  8,480,323                                      613,602  2,101,360            32.01%          24.78%                                       784,335                                                        9.25%                            1,930,627                                             22.77%\n"
          ]
        }
      ]
    }
  ]
}